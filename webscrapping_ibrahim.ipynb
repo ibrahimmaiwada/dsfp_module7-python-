{
  "nbformat": 4,
  "nbformat_minor": 0,
  "metadata": {
    "colab": {
      "provenance": []
    },
    "kernelspec": {
      "name": "python3",
      "display_name": "Python 3"
    },
    "language_info": {
      "name": "python"
    }
  },
  "cells": [
    {
      "cell_type": "markdown",
      "source": [
        "Analyzing the woorld GDP"
      ],
      "metadata": {
        "id": "CwrVQDk5Ieuh"
      }
    },
    {
      "cell_type": "code",
      "source": [
        "# Importing libraries\n",
        "import requests\n",
        "from bs4 import BeautifulSoup\n",
        "import pandas as pd\n",
        "import matplotlib.pyplot as plt\n",
        "import seaborn as sns\n",
        "import geopandas as gpd\n",
        "import folium"
      ],
      "metadata": {
        "id": "AgqOcvC_BShb"
      },
      "execution_count": 1,
      "outputs": []
    },
    {
      "cell_type": "markdown",
      "source": [
        "Web Scraping the Table"
      ],
      "metadata": {
        "id": "pH9b3523BxUx"
      }
    },
    {
      "cell_type": "code",
      "source": [
        "# URL of the website\n",
        "url = \"https://en.wikipedia.org/wiki/List_of_countries_by_GDP_(nominal)\""
      ],
      "metadata": {
        "id": "wXVesZ0EB0ZY"
      },
      "execution_count": 5,
      "outputs": []
    },
    {
      "cell_type": "code",
      "source": [
        "# Fetching the raw HTML content\n",
        "response = requests.get(url)\n",
        "soup = BeautifulSoup(response.content, 'html.parser')"
      ],
      "metadata": {
        "id": "7ctegsc1CADS"
      },
      "execution_count": 6,
      "outputs": []
    },
    {
      "cell_type": "code",
      "source": [
        "# Finding the target table\n",
        "table = soup.find('table', {'class': 'wikitable'})"
      ],
      "metadata": {
        "id": "pJpxAqpqCH71"
      },
      "execution_count": 7,
      "outputs": []
    },
    {
      "cell_type": "code",
      "source": [
        "# Extracting the table headers\n",
        "headers = [th.get_text(strip=True) for th in table.find_all('th')]\n",
        "\n",
        "# Extracting table rows\n",
        "rows = []\n",
        "for tr in table.find_all('tr')[1:]:\n",
        "    cells = tr.find_all(['td', 'th'])\n",
        "    row = [cell.get_text(strip=True) for cell in cells]\n",
        "    if len(row) < len(headers):\n",
        "        row.extend([None] * (len(headers) - len(row)))\n",
        "    rows.append(row)"
      ],
      "metadata": {
        "id": "QzlATVtrCNhC"
      },
      "execution_count": 11,
      "outputs": []
    },
    {
      "cell_type": "code",
      "source": [
        "# Creating a DataFrame\n",
        "df = pd.DataFrame(rows, columns=headers)\n",
        "df.head()"
      ],
      "metadata": {
        "colab": {
          "base_uri": "https://localhost:8080/",
          "height": 206
        },
        "id": "2xlVwobwCQlG",
        "outputId": "b045d410-6024-4c10-e290-c9b2ebb909c2"
      },
      "execution_count": 13,
      "outputs": [
        {
          "output_type": "execute_result",
          "data": {
            "text/plain": [
              "  Country/Territory   IMF[1][13] World Bank[14] United Nations[15]   Forecast  \\\n",
              "0          Forecast         Year       Estimate               Year   Estimate   \n",
              "1             World  110,047,109           2024        105,435,540       2023   \n",
              "2     United States   29,167,779           2024         27,360,935       2023   \n",
              "3             China   18,273,357      [n 1]2024         17,794,782  [n 3]2023   \n",
              "4           Germany    4,710,032           2024          4,456,081       2023   \n",
              "\n",
              "          Year   Estimate  Year Estimate  Year  \n",
              "0         Year       None  None     None  None  \n",
              "1  100,834,796       2022  None     None  None  \n",
              "2   25,744,100       2022  None     None  None  \n",
              "3   17,963,170  [n 1]2022  None     None  None  \n",
              "4    4,076,923       2022  None     None  None  "
            ],
            "text/html": [
              "\n",
              "  <div id=\"df-3b730f9c-14b0-4569-bd1a-b9187e54afcd\" class=\"colab-df-container\">\n",
              "    <div>\n",
              "<style scoped>\n",
              "    .dataframe tbody tr th:only-of-type {\n",
              "        vertical-align: middle;\n",
              "    }\n",
              "\n",
              "    .dataframe tbody tr th {\n",
              "        vertical-align: top;\n",
              "    }\n",
              "\n",
              "    .dataframe thead th {\n",
              "        text-align: right;\n",
              "    }\n",
              "</style>\n",
              "<table border=\"1\" class=\"dataframe\">\n",
              "  <thead>\n",
              "    <tr style=\"text-align: right;\">\n",
              "      <th></th>\n",
              "      <th>Country/Territory</th>\n",
              "      <th>IMF[1][13]</th>\n",
              "      <th>World Bank[14]</th>\n",
              "      <th>United Nations[15]</th>\n",
              "      <th>Forecast</th>\n",
              "      <th>Year</th>\n",
              "      <th>Estimate</th>\n",
              "      <th>Year</th>\n",
              "      <th>Estimate</th>\n",
              "      <th>Year</th>\n",
              "    </tr>\n",
              "  </thead>\n",
              "  <tbody>\n",
              "    <tr>\n",
              "      <th>0</th>\n",
              "      <td>Forecast</td>\n",
              "      <td>Year</td>\n",
              "      <td>Estimate</td>\n",
              "      <td>Year</td>\n",
              "      <td>Estimate</td>\n",
              "      <td>Year</td>\n",
              "      <td>None</td>\n",
              "      <td>None</td>\n",
              "      <td>None</td>\n",
              "      <td>None</td>\n",
              "    </tr>\n",
              "    <tr>\n",
              "      <th>1</th>\n",
              "      <td>World</td>\n",
              "      <td>110,047,109</td>\n",
              "      <td>2024</td>\n",
              "      <td>105,435,540</td>\n",
              "      <td>2023</td>\n",
              "      <td>100,834,796</td>\n",
              "      <td>2022</td>\n",
              "      <td>None</td>\n",
              "      <td>None</td>\n",
              "      <td>None</td>\n",
              "    </tr>\n",
              "    <tr>\n",
              "      <th>2</th>\n",
              "      <td>United States</td>\n",
              "      <td>29,167,779</td>\n",
              "      <td>2024</td>\n",
              "      <td>27,360,935</td>\n",
              "      <td>2023</td>\n",
              "      <td>25,744,100</td>\n",
              "      <td>2022</td>\n",
              "      <td>None</td>\n",
              "      <td>None</td>\n",
              "      <td>None</td>\n",
              "    </tr>\n",
              "    <tr>\n",
              "      <th>3</th>\n",
              "      <td>China</td>\n",
              "      <td>18,273,357</td>\n",
              "      <td>[n 1]2024</td>\n",
              "      <td>17,794,782</td>\n",
              "      <td>[n 3]2023</td>\n",
              "      <td>17,963,170</td>\n",
              "      <td>[n 1]2022</td>\n",
              "      <td>None</td>\n",
              "      <td>None</td>\n",
              "      <td>None</td>\n",
              "    </tr>\n",
              "    <tr>\n",
              "      <th>4</th>\n",
              "      <td>Germany</td>\n",
              "      <td>4,710,032</td>\n",
              "      <td>2024</td>\n",
              "      <td>4,456,081</td>\n",
              "      <td>2023</td>\n",
              "      <td>4,076,923</td>\n",
              "      <td>2022</td>\n",
              "      <td>None</td>\n",
              "      <td>None</td>\n",
              "      <td>None</td>\n",
              "    </tr>\n",
              "  </tbody>\n",
              "</table>\n",
              "</div>\n",
              "    <div class=\"colab-df-buttons\">\n",
              "\n",
              "  <div class=\"colab-df-container\">\n",
              "    <button class=\"colab-df-convert\" onclick=\"convertToInteractive('df-3b730f9c-14b0-4569-bd1a-b9187e54afcd')\"\n",
              "            title=\"Convert this dataframe to an interactive table.\"\n",
              "            style=\"display:none;\">\n",
              "\n",
              "  <svg xmlns=\"http://www.w3.org/2000/svg\" height=\"24px\" viewBox=\"0 -960 960 960\">\n",
              "    <path d=\"M120-120v-720h720v720H120Zm60-500h600v-160H180v160Zm220 220h160v-160H400v160Zm0 220h160v-160H400v160ZM180-400h160v-160H180v160Zm440 0h160v-160H620v160ZM180-180h160v-160H180v160Zm440 0h160v-160H620v160Z\"/>\n",
              "  </svg>\n",
              "    </button>\n",
              "\n",
              "  <style>\n",
              "    .colab-df-container {\n",
              "      display:flex;\n",
              "      gap: 12px;\n",
              "    }\n",
              "\n",
              "    .colab-df-convert {\n",
              "      background-color: #E8F0FE;\n",
              "      border: none;\n",
              "      border-radius: 50%;\n",
              "      cursor: pointer;\n",
              "      display: none;\n",
              "      fill: #1967D2;\n",
              "      height: 32px;\n",
              "      padding: 0 0 0 0;\n",
              "      width: 32px;\n",
              "    }\n",
              "\n",
              "    .colab-df-convert:hover {\n",
              "      background-color: #E2EBFA;\n",
              "      box-shadow: 0px 1px 2px rgba(60, 64, 67, 0.3), 0px 1px 3px 1px rgba(60, 64, 67, 0.15);\n",
              "      fill: #174EA6;\n",
              "    }\n",
              "\n",
              "    .colab-df-buttons div {\n",
              "      margin-bottom: 4px;\n",
              "    }\n",
              "\n",
              "    [theme=dark] .colab-df-convert {\n",
              "      background-color: #3B4455;\n",
              "      fill: #D2E3FC;\n",
              "    }\n",
              "\n",
              "    [theme=dark] .colab-df-convert:hover {\n",
              "      background-color: #434B5C;\n",
              "      box-shadow: 0px 1px 3px 1px rgba(0, 0, 0, 0.15);\n",
              "      filter: drop-shadow(0px 1px 2px rgba(0, 0, 0, 0.3));\n",
              "      fill: #FFFFFF;\n",
              "    }\n",
              "  </style>\n",
              "\n",
              "    <script>\n",
              "      const buttonEl =\n",
              "        document.querySelector('#df-3b730f9c-14b0-4569-bd1a-b9187e54afcd button.colab-df-convert');\n",
              "      buttonEl.style.display =\n",
              "        google.colab.kernel.accessAllowed ? 'block' : 'none';\n",
              "\n",
              "      async function convertToInteractive(key) {\n",
              "        const element = document.querySelector('#df-3b730f9c-14b0-4569-bd1a-b9187e54afcd');\n",
              "        const dataTable =\n",
              "          await google.colab.kernel.invokeFunction('convertToInteractive',\n",
              "                                                    [key], {});\n",
              "        if (!dataTable) return;\n",
              "\n",
              "        const docLinkHtml = 'Like what you see? Visit the ' +\n",
              "          '<a target=\"_blank\" href=https://colab.research.google.com/notebooks/data_table.ipynb>data table notebook</a>'\n",
              "          + ' to learn more about interactive tables.';\n",
              "        element.innerHTML = '';\n",
              "        dataTable['output_type'] = 'display_data';\n",
              "        await google.colab.output.renderOutput(dataTable, element);\n",
              "        const docLink = document.createElement('div');\n",
              "        docLink.innerHTML = docLinkHtml;\n",
              "        element.appendChild(docLink);\n",
              "      }\n",
              "    </script>\n",
              "  </div>\n",
              "\n",
              "\n",
              "<div id=\"df-65acc2f1-9aa7-459e-ae5f-eb33ba4721e6\">\n",
              "  <button class=\"colab-df-quickchart\" onclick=\"quickchart('df-65acc2f1-9aa7-459e-ae5f-eb33ba4721e6')\"\n",
              "            title=\"Suggest charts\"\n",
              "            style=\"display:none;\">\n",
              "\n",
              "<svg xmlns=\"http://www.w3.org/2000/svg\" height=\"24px\"viewBox=\"0 0 24 24\"\n",
              "     width=\"24px\">\n",
              "    <g>\n",
              "        <path d=\"M19 3H5c-1.1 0-2 .9-2 2v14c0 1.1.9 2 2 2h14c1.1 0 2-.9 2-2V5c0-1.1-.9-2-2-2zM9 17H7v-7h2v7zm4 0h-2V7h2v10zm4 0h-2v-4h2v4z\"/>\n",
              "    </g>\n",
              "</svg>\n",
              "  </button>\n",
              "\n",
              "<style>\n",
              "  .colab-df-quickchart {\n",
              "      --bg-color: #E8F0FE;\n",
              "      --fill-color: #1967D2;\n",
              "      --hover-bg-color: #E2EBFA;\n",
              "      --hover-fill-color: #174EA6;\n",
              "      --disabled-fill-color: #AAA;\n",
              "      --disabled-bg-color: #DDD;\n",
              "  }\n",
              "\n",
              "  [theme=dark] .colab-df-quickchart {\n",
              "      --bg-color: #3B4455;\n",
              "      --fill-color: #D2E3FC;\n",
              "      --hover-bg-color: #434B5C;\n",
              "      --hover-fill-color: #FFFFFF;\n",
              "      --disabled-bg-color: #3B4455;\n",
              "      --disabled-fill-color: #666;\n",
              "  }\n",
              "\n",
              "  .colab-df-quickchart {\n",
              "    background-color: var(--bg-color);\n",
              "    border: none;\n",
              "    border-radius: 50%;\n",
              "    cursor: pointer;\n",
              "    display: none;\n",
              "    fill: var(--fill-color);\n",
              "    height: 32px;\n",
              "    padding: 0;\n",
              "    width: 32px;\n",
              "  }\n",
              "\n",
              "  .colab-df-quickchart:hover {\n",
              "    background-color: var(--hover-bg-color);\n",
              "    box-shadow: 0 1px 2px rgba(60, 64, 67, 0.3), 0 1px 3px 1px rgba(60, 64, 67, 0.15);\n",
              "    fill: var(--button-hover-fill-color);\n",
              "  }\n",
              "\n",
              "  .colab-df-quickchart-complete:disabled,\n",
              "  .colab-df-quickchart-complete:disabled:hover {\n",
              "    background-color: var(--disabled-bg-color);\n",
              "    fill: var(--disabled-fill-color);\n",
              "    box-shadow: none;\n",
              "  }\n",
              "\n",
              "  .colab-df-spinner {\n",
              "    border: 2px solid var(--fill-color);\n",
              "    border-color: transparent;\n",
              "    border-bottom-color: var(--fill-color);\n",
              "    animation:\n",
              "      spin 1s steps(1) infinite;\n",
              "  }\n",
              "\n",
              "  @keyframes spin {\n",
              "    0% {\n",
              "      border-color: transparent;\n",
              "      border-bottom-color: var(--fill-color);\n",
              "      border-left-color: var(--fill-color);\n",
              "    }\n",
              "    20% {\n",
              "      border-color: transparent;\n",
              "      border-left-color: var(--fill-color);\n",
              "      border-top-color: var(--fill-color);\n",
              "    }\n",
              "    30% {\n",
              "      border-color: transparent;\n",
              "      border-left-color: var(--fill-color);\n",
              "      border-top-color: var(--fill-color);\n",
              "      border-right-color: var(--fill-color);\n",
              "    }\n",
              "    40% {\n",
              "      border-color: transparent;\n",
              "      border-right-color: var(--fill-color);\n",
              "      border-top-color: var(--fill-color);\n",
              "    }\n",
              "    60% {\n",
              "      border-color: transparent;\n",
              "      border-right-color: var(--fill-color);\n",
              "    }\n",
              "    80% {\n",
              "      border-color: transparent;\n",
              "      border-right-color: var(--fill-color);\n",
              "      border-bottom-color: var(--fill-color);\n",
              "    }\n",
              "    90% {\n",
              "      border-color: transparent;\n",
              "      border-bottom-color: var(--fill-color);\n",
              "    }\n",
              "  }\n",
              "</style>\n",
              "\n",
              "  <script>\n",
              "    async function quickchart(key) {\n",
              "      const quickchartButtonEl =\n",
              "        document.querySelector('#' + key + ' button');\n",
              "      quickchartButtonEl.disabled = true;  // To prevent multiple clicks.\n",
              "      quickchartButtonEl.classList.add('colab-df-spinner');\n",
              "      try {\n",
              "        const charts = await google.colab.kernel.invokeFunction(\n",
              "            'suggestCharts', [key], {});\n",
              "      } catch (error) {\n",
              "        console.error('Error during call to suggestCharts:', error);\n",
              "      }\n",
              "      quickchartButtonEl.classList.remove('colab-df-spinner');\n",
              "      quickchartButtonEl.classList.add('colab-df-quickchart-complete');\n",
              "    }\n",
              "    (() => {\n",
              "      let quickchartButtonEl =\n",
              "        document.querySelector('#df-65acc2f1-9aa7-459e-ae5f-eb33ba4721e6 button');\n",
              "      quickchartButtonEl.style.display =\n",
              "        google.colab.kernel.accessAllowed ? 'block' : 'none';\n",
              "    })();\n",
              "  </script>\n",
              "</div>\n",
              "\n",
              "    </div>\n",
              "  </div>\n"
            ],
            "application/vnd.google.colaboratory.intrinsic+json": {
              "type": "dataframe",
              "variable_name": "df",
              "repr_error": "Out of range float values are not JSON compliant: nan"
            }
          },
          "metadata": {},
          "execution_count": 13
        }
      ]
    },
    {
      "cell_type": "code",
      "source": [
        "df.shape"
      ],
      "metadata": {
        "colab": {
          "base_uri": "https://localhost:8080/"
        },
        "id": "_XE8eCT0DF4E",
        "outputId": "96dee58d-4d29-49d7-9cc0-d604d54395eb"
      },
      "execution_count": 14,
      "outputs": [
        {
          "output_type": "execute_result",
          "data": {
            "text/plain": [
              "(211, 10)"
            ]
          },
          "metadata": {},
          "execution_count": 14
        }
      ]
    },
    {
      "cell_type": "code",
      "source": [
        "# Checking for missing values\n",
        "df.isnull().sum()"
      ],
      "metadata": {
        "colab": {
          "base_uri": "https://localhost:8080/",
          "height": 397
        },
        "id": "P96ZkU95C_K1",
        "outputId": "fa11b7ee-841d-4b15-aee3-3ce7d4363d92"
      },
      "execution_count": 15,
      "outputs": [
        {
          "output_type": "execute_result",
          "data": {
            "text/plain": [
              "Country/Territory       0\n",
              "IMF[1][13]              0\n",
              "World Bank[14]          0\n",
              "United Nations[15]      0\n",
              "Forecast                0\n",
              "Year                    5\n",
              "Estimate               20\n",
              "Year                  211\n",
              "Estimate              211\n",
              "Year                  211\n",
              "dtype: int64"
            ],
            "text/html": [
              "<div>\n",
              "<style scoped>\n",
              "    .dataframe tbody tr th:only-of-type {\n",
              "        vertical-align: middle;\n",
              "    }\n",
              "\n",
              "    .dataframe tbody tr th {\n",
              "        vertical-align: top;\n",
              "    }\n",
              "\n",
              "    .dataframe thead th {\n",
              "        text-align: right;\n",
              "    }\n",
              "</style>\n",
              "<table border=\"1\" class=\"dataframe\">\n",
              "  <thead>\n",
              "    <tr style=\"text-align: right;\">\n",
              "      <th></th>\n",
              "      <th>0</th>\n",
              "    </tr>\n",
              "  </thead>\n",
              "  <tbody>\n",
              "    <tr>\n",
              "      <th>Country/Territory</th>\n",
              "      <td>0</td>\n",
              "    </tr>\n",
              "    <tr>\n",
              "      <th>IMF[1][13]</th>\n",
              "      <td>0</td>\n",
              "    </tr>\n",
              "    <tr>\n",
              "      <th>World Bank[14]</th>\n",
              "      <td>0</td>\n",
              "    </tr>\n",
              "    <tr>\n",
              "      <th>United Nations[15]</th>\n",
              "      <td>0</td>\n",
              "    </tr>\n",
              "    <tr>\n",
              "      <th>Forecast</th>\n",
              "      <td>0</td>\n",
              "    </tr>\n",
              "    <tr>\n",
              "      <th>Year</th>\n",
              "      <td>5</td>\n",
              "    </tr>\n",
              "    <tr>\n",
              "      <th>Estimate</th>\n",
              "      <td>20</td>\n",
              "    </tr>\n",
              "    <tr>\n",
              "      <th>Year</th>\n",
              "      <td>211</td>\n",
              "    </tr>\n",
              "    <tr>\n",
              "      <th>Estimate</th>\n",
              "      <td>211</td>\n",
              "    </tr>\n",
              "    <tr>\n",
              "      <th>Year</th>\n",
              "      <td>211</td>\n",
              "    </tr>\n",
              "  </tbody>\n",
              "</table>\n",
              "</div><br><label><b>dtype:</b> int64</label>"
            ]
          },
          "metadata": {},
          "execution_count": 15
        }
      ]
    },
    {
      "cell_type": "code",
      "source": [
        "df.info()"
      ],
      "metadata": {
        "colab": {
          "base_uri": "https://localhost:8080/"
        },
        "id": "PMEjPbRNDMCY",
        "outputId": "90d8d134-10fe-4c68-a652-a7b2bad9629b"
      },
      "execution_count": 16,
      "outputs": [
        {
          "output_type": "stream",
          "name": "stdout",
          "text": [
            "<class 'pandas.core.frame.DataFrame'>\n",
            "RangeIndex: 211 entries, 0 to 210\n",
            "Data columns (total 10 columns):\n",
            " #   Column              Non-Null Count  Dtype \n",
            "---  ------              --------------  ----- \n",
            " 0   Country/Territory   211 non-null    object\n",
            " 1   IMF[1][13]          211 non-null    object\n",
            " 2   World Bank[14]      211 non-null    object\n",
            " 3   United Nations[15]  211 non-null    object\n",
            " 4   Forecast            211 non-null    object\n",
            " 5   Year                206 non-null    object\n",
            " 6   Estimate            191 non-null    object\n",
            " 7   Year                0 non-null      object\n",
            " 8   Estimate            0 non-null      object\n",
            " 9   Year                0 non-null      object\n",
            "dtypes: object(10)\n",
            "memory usage: 16.6+ KB\n"
          ]
        }
      ]
    },
    {
      "cell_type": "markdown",
      "source": [
        "Data Cleaning"
      ],
      "metadata": {
        "id": "5IeAjGDwDf1s"
      }
    },
    {
      "cell_type": "code",
      "source": [
        "# renaming the first three columns\n",
        "df.rename(columns={df.columns[0]: 'Country', df.columns[1]: 'GDP (US$ Millions)', df.columns[2]: 'Year'}, inplace=True)\n"
      ],
      "metadata": {
        "id": "mfyK6m6CDVR2"
      },
      "execution_count": 18,
      "outputs": []
    },
    {
      "cell_type": "code",
      "source": [
        "# Removing special characters\n",
        "df['Country'] = df['Country'].str.replace(r'\\[.*\\]', '', regex=True)\n",
        "\n",
        "# Convert GDP to numeric\n",
        "df['GDP (US$ Millions)'] = pd.to_numeric(df['GDP (US$ Millions)'].str.replace(',', ''), errors='coerce')"
      ],
      "metadata": {
        "id": "yCahLxg5EnSV"
      },
      "execution_count": 19,
      "outputs": []
    },
    {
      "cell_type": "code",
      "source": [
        "# Droping rows with missing GDP values\n",
        "df.dropna(subset=['GDP (US$ Millions)'], inplace=True)"
      ],
      "metadata": {
        "id": "iM0lUXeqEzHo"
      },
      "execution_count": 20,
      "outputs": []
    },
    {
      "cell_type": "code",
      "source": [
        "# Reseting index\n",
        "df.reset_index(drop=True, inplace=True)"
      ],
      "metadata": {
        "id": "4zJxlAqME7AJ"
      },
      "execution_count": 21,
      "outputs": []
    },
    {
      "cell_type": "markdown",
      "source": [
        "Exploratory Data Analysis (EDA)"
      ],
      "metadata": {
        "id": "x5RlHHh0FA4F"
      }
    },
    {
      "cell_type": "code",
      "source": [
        "# Summary statistics\n",
        "print(\"Summary Statistics:\")\n",
        "print(df.describe())"
      ],
      "metadata": {
        "colab": {
          "base_uri": "https://localhost:8080/"
        },
        "id": "H_ebkrS7E9dA",
        "outputId": "22f60356-2b1a-470a-a517-e2ee2de30b00"
      },
      "execution_count": 22,
      "outputs": [
        {
          "output_type": "stream",
          "name": "stdout",
          "text": [
            "Summary Statistics:\n",
            "       GDP (US$ Millions)\n",
            "count        1.950000e+02\n",
            "mean         1.128700e+06\n",
            "std          8.239994e+06\n",
            "min          6.600000e+01\n",
            "25%          1.335050e+04\n",
            "50%          4.714700e+04\n",
            "75%          2.977925e+05\n",
            "max          1.100471e+08\n"
          ]
        }
      ]
    },
    {
      "cell_type": "code",
      "source": [
        "# Univariate Analysis\n",
        "plt.figure(figsize=(12, 6))\n",
        "sns.histplot(df['GDP (US$ Millions)'], kde=True, bins=20, color='blue')\n",
        "plt.title('GDP Distribution')\n",
        "plt.xlabel('GDP (US$ Millions)')\n",
        "plt.ylabel('Frequency')\n",
        "plt.show()"
      ],
      "metadata": {
        "colab": {
          "base_uri": "https://localhost:8080/",
          "height": 564
        },
        "id": "Cu4Dr4G4FMn7",
        "outputId": "33fc0d18-f055-4146-92f1-72b82dbb2717"
      },
      "execution_count": 23,
      "outputs": [
        {
          "output_type": "display_data",
          "data": {
            "text/plain": [
              "<Figure size 1200x600 with 1 Axes>"
            ],
            "image/png": "[encoded data removed]"
          },
          "metadata": {}
        }
      ]
    },
    {
      "cell_type": "code",
      "source": [
        "# Bivariate Analysis\n",
        "plt.figure(figsize=(12, 6))\n",
        "sns.boxplot(data=df, x='GDP (US$ Millions)')\n",
        "plt.title('Boxplot of GDP')\n",
        "plt.show()"
      ],
      "metadata": {
        "colab": {
          "base_uri": "https://localhost:8080/",
          "height": 564
        },
        "id": "hyc8GurKFTK4",
        "outputId": "ac8e4dbf-e40f-4fa7-f877-e3e6ade849e9"
      },
      "execution_count": 24,
      "outputs": [
        {
          "output_type": "display_data",
          "data": {
            "text/plain": [
              "<Figure size 1200x600 with 1 Axes>"
            ],
            "image/png": "[encoded data removed]"
          },
          "metadata": {}
        }
      ]
    },
    {
      "cell_type": "code",
      "source": [
        "!pip install pycountry\n",
        "import plotly.express as px\n",
        "import pycountry\n",
        "\n",
        "# Converting country names to ISO Alpha-3 country codes (eg. NGA, ENG, USA)\n",
        "def get_country_code(country_name):\n",
        "    try:\n",
        "        return pycountry.countries.lookup(country_name).alpha_3\n",
        "    except LookupError:\n",
        "        return None\n",
        "\n",
        "# Adding ISO Alpha-3 country codes to the DataFrame\n",
        "df['ISO_Code'] = df['Country'].apply(get_country_code)\n",
        "\n",
        "# Dropping the rows with missing ISO codes\n",
        "df = df.dropna(subset=['ISO_Code'])\n",
        "\n",
        "# Create a choropleth map using Plotly\n",
        "fig = px.choropleth(\n",
        "    df,\n",
        "    locations='ISO_Code',  # Use ISO Alpha-3 codes for mapping\n",
        "    color='GDP (US$ Millions)',  # Color by GDP\n",
        "    hover_name='Country',  # Display country name on hover\n",
        "    title='World GDP Distribution',\n",
        "    color_continuous_scale=px.colors.sequential.Plasma\n",
        ")\n",
        "\n",
        "# Display the map\n",
        "fig.show()\n"
      ],
      "metadata": {
        "colab": {
          "base_uri": "https://localhost:8080/",
          "height": 652
        },
        "id": "nX3BYDROFcwV",
        "outputId": "fb7d33a1-83f1-4feb-9f12-266b3cbc314d"
      },
      "execution_count": 27,
      "outputs": [
        {
          "output_type": "stream",
          "name": "stdout",
          "text": [
            "Collecting pycountry\n",
            "  Downloading pycountry-24.6.1-py3-none-any.whl.metadata (12 kB)\n",
            "Downloading pycountry-24.6.1-py3-none-any.whl (6.3 MB)\n",
            "\u001b[2K   \u001b[90m━━━━━━━━━━━━━━━━━━━━━━━━━━━━━━━━━━━━━━━━\u001b[0m \u001b[32m6.3/6.3 MB\u001b[0m \u001b[31m36.1 MB/s\u001b[0m eta \u001b[36m0:00:00\u001b[0m\n",
            "\u001b[?25hInstalling collected packages: pycountry\n",
            "Successfully installed pycountry-24.6.1\n"
          ]
        },
        {
          "output_type": "display_data",
          "data": {
            "text/html": [
              "<html>\n",
              "<head><meta charset=\"utf-8\" /></head>\n",
              "<body>\n",
              "    <div>            <script src=\"https://cdnjs.cloudflare.com/ajax/libs/mathjax/2.7.5/MathJax.js?config=TeX-AMS-MML_SVG\"></script><script type=\"text/javascript\">if (window.MathJax && window.MathJax.Hub && window.MathJax.Hub.Config) {window.MathJax.Hub.Config({SVG: {font: \"STIX-Web\"}});}</script>                <script type=\"text/javascript\">window.PlotlyConfig = {MathJaxConfig: 'local'};</script>\n",
              "        <script charset=\"utf-8\" src=\"https://cdn.plot.ly/plotly-2.35.2.min.js\"></script>                <div id=\"29614841-7931-415a-aa50-b35e8de8c578\" class=\"plotly-graph-div\" style=\"height:525px; width:100%;\"></div>            <script type=\"text/javascript\">                                    window.PLOTLYENV=window.PLOTLYENV || {};                                    if (document.getElementById(\"29614841-7931-415a-aa50-b35e8de8c578\")) {                    Plotly.newPlot(                        \"29614841-7931-415a-aa50-b35e8de8c578\",                        [{\"coloraxis\":\"coloraxis\",\"geo\":\"geo\",\"hovertemplate\":\"\\u003cb\\u003e%{hovertext}\\u003c\\u002fb\\u003e\\u003cbr\\u003e\\u003cbr\\u003eISO_Code=%{location}\\u003cbr\\u003eGDP (US$ Millions)=%{z}\\u003cextra\\u003e\\u003c\\u002fextra\\u003e\",\"hovertext\":[\"United States\",\"China\",\"Germany\",\"Japan\",\"India\",\"United Kingdom\",\"France\",\"Italy\",\"Canada\",\"Brazil\",\"South Korea\",\"Mexico\",\"Australia\",\"Spain\",\"Indonesia\",\"Netherlands\",\"Saudi Arabia\",\"Switzerland\",\"Poland\",\"Taiwan\",\"Belgium\",\"Sweden\",\"Argentina\",\"Ireland\",\"United Arab Emirates\",\"Austria\",\"Singapore\",\"Thailand\",\"Israel\",\"Norway\",\"Philippines\",\"Vietnam\",\"Bangladesh\",\"Malaysia\",\"Iran\",\"Colombia\",\"Denmark\",\"South Africa\",\"Hong Kong\",\"Romania\",\"Egypt\",\"Pakistan\",\"Czech Republic\",\"Chile\",\"Finland\",\"Portugal\",\"Kazakhstan\",\"Peru\",\"Iraq\",\"Algeria\",\"Greece\",\"New Zealand\",\"Hungary\",\"Qatar\",\"Nigeria\",\"Ukraine\",\"Kuwait\",\"Morocco\",\"Ethiopia\",\"Slovakia\",\"Dominican Republic\",\"Ecuador\",\"Puerto Rico\",\"Kenya\",\"Angola\",\"Uzbekistan\",\"Guatemala\",\"Oman\",\"Bulgaria\",\"Venezuela\",\"Costa Rica\",\"Luxembourg\",\"Croatia\",\"Panama\",\"Sri Lanka\",\"Turkmenistan\",\"Lithuania\",\"Uruguay\",\"Serbia\",\"Tanzania\",\"Azerbaijan\",\"Ghana\",\"Slovenia\",\"Belarus\",\"Myanmar\",\"Uganda\",\"Cameroon\",\"Jordan\",\"Tunisia\",\"Bolivia\",\"Bahrain\",\"Cambodia\",\"Latvia\",\"Paraguay\",\"Libya\",\"Nepal\",\"Estonia\",\"Honduras\",\"Zimbabwe\",\"El Salvador\",\"Cyprus\",\"Senegal\",\"Georgia\",\"Iceland\",\"Papua New Guinea\",\"Zambia\",\"Bosnia and Herzegovina\",\"Trinidad and Tobago\",\"Sudan\",\"Guinea\",\"Albania\",\"Armenia\",\"Haiti\",\"Mozambique\",\"Malta\",\"Mongolia\",\"Burkina Faso\",\"Mali\",\"Botswana\",\"Benin\",\"Guyana\",\"Gabon\",\"Jamaica\",\"Nicaragua\",\"Niger\",\"Chad\",\"Moldova\",\"Lebanon\",\"Yemen\",\"Madagascar\",\"Mauritius\",\"North Macedonia\",\"Kyrgyzstan\",\"Congo\",\"Laos\",\"Afghanistan\",\"Bahamas\",\"Rwanda\",\"Tajikistan\",\"Somalia\",\"Namibia\",\"Malawi\",\"Equatorial Guinea\",\"Mauritania\",\"Togo\",\"Montenegro\",\"Maldives\",\"Barbados\",\"South Sudan\",\"Fiji\",\"Eswatini\",\"Liberia\",\"Sierra Leone\",\"Djibouti\",\"Suriname\",\"Aruba\",\"Andorra\",\"Belize\",\"Bhutan\",\"Burundi\",\"Central African Republic\",\"Gambia\",\"Saint Lucia\",\"Lesotho\",\"Seychelles\",\"Guinea-Bissau\",\"Antigua and Barbuda\",\"San Marino\",\"Solomon Islands\",\"Comoros\",\"Grenada\",\"Vanuatu\",\"Saint Kitts and Nevis\",\"Saint Vincent and the Grenadines\",\"Samoa\",\"Dominica\",\"Tonga\",\"Kiribati\",\"Palau\",\"Marshall Islands\",\"Nauru\",\"Tuvalu\"],\"locations\":[\"USA\",\"CHN\",\"DEU\",\"JPN\",\"IND\",\"GBR\",\"FRA\",\"ITA\",\"CAN\",\"BRA\",\"KOR\",\"MEX\",\"AUS\",\"ESP\",\"IDN\",\"NLD\",\"SAU\",\"CHE\",\"POL\",\"TWN\",\"BEL\",\"SWE\",\"ARG\",\"IRL\",\"ARE\",\"AUT\",\"SGP\",\"THA\",\"ISR\",\"NOR\",\"PHL\",\"VNM\",\"BGD\",\"MYS\",\"IRN\",\"COL\",\"DNK\",\"ZAF\",\"HKG\",\"ROU\",\"EGY\",\"PAK\",\"CZE\",\"CHL\",\"FIN\",\"PRT\",\"KAZ\",\"PER\",\"IRQ\",\"DZA\",\"GRC\",\"NZL\",\"HUN\",\"QAT\",\"NGA\",\"UKR\",\"KWT\",\"MAR\",\"ETH\",\"SVK\",\"DOM\",\"ECU\",\"PRI\",\"KEN\",\"AGO\",\"UZB\",\"GTM\",\"OMN\",\"BGR\",\"VEN\",\"CRI\",\"LUX\",\"HRV\",\"PAN\",\"LKA\",\"TKM\",\"LTU\",\"URY\",\"SRB\",\"TZA\",\"AZE\",\"GHA\",\"SVN\",\"BLR\",\"MMR\",\"UGA\",\"CMR\",\"JOR\",\"TUN\",\"BOL\",\"BHR\",\"KHM\",\"LVA\",\"PRY\",\"LBY\",\"NPL\",\"EST\",\"HND\",\"ZWE\",\"SLV\",\"CYP\",\"SEN\",\"GEO\",\"ISL\",\"PNG\",\"ZMB\",\"BIH\",\"TTO\",\"SDN\",\"GIN\",\"ALB\",\"ARM\",\"HTI\",\"MOZ\",\"MLT\",\"MNG\",\"BFA\",\"MLI\",\"BWA\",\"BEN\",\"GUY\",\"GAB\",\"JAM\",\"NIC\",\"NER\",\"TCD\",\"MDA\",\"LBN\",\"YEM\",\"MDG\",\"MUS\",\"MKD\",\"KGZ\",\"COG\",\"LAO\",\"AFG\",\"BHS\",\"RWA\",\"TJK\",\"SOM\",\"NAM\",\"MWI\",\"GNQ\",\"MRT\",\"TGO\",\"MNE\",\"MDV\",\"BRB\",\"SSD\",\"FJI\",\"SWZ\",\"LBR\",\"SLE\",\"DJI\",\"SUR\",\"ABW\",\"AND\",\"BLZ\",\"BTN\",\"BDI\",\"CAF\",\"GMB\",\"LCA\",\"LSO\",\"SYC\",\"GNB\",\"ATG\",\"SMR\",\"SLB\",\"COM\",\"GRD\",\"VUT\",\"KNA\",\"VCT\",\"WSM\",\"DMA\",\"TON\",\"KIR\",\"PLW\",\"MHL\",\"NRU\",\"TUV\"],\"name\":\"\",\"z\":[29167779.0,18273357.0,4710032.0,4070094.0,3889130.0,3587545.0,3174099.0,2376510.0,2214796.0,2188419.0,1869916.0,1848125.0,1802006.0,1731469.0,1402590.0,1218401.0,1100706.0,942265.0,862908.0,775017.0,662183.0,609039.0,604382.0,560566.0,545053.0,535804.0,530708.0,528919.0,528067.0,503752.0,470062.0,468485.0,451468.0,439748.0,434243.0,417207.0,412293.0,403045.0,401751.0,380561.0,380044.0,374595.0,342992.0,328720.0,306083.0,303032.0,292553.0,283309.0,264149.0,260134.0,252732.0,252236.0,228806.0,221406.0,199721.0,184099.0,161822.0,157087.0,145031.0,142617.0,126238.0,121425.0,120971.0,116321.0,113286.0,112653.0,112369.0,109993.0,108425.0,106327.0,95149.0,91210.0,89665.0,87347.0,74846.0,83883.0,82789.0,82605.0,82550.0,79867.0,75649.0,75307.0,73198.0,73129.0,64284.0,55587.0,53391.0,53305.0,52636.0,48172.0,47812.0,47147.0,45521.0,44937.0,44812.0,43673.0,43044.0,36735.0,35919.0,35848.0,34790.0,33685.0,33191.0,32919.0,31716.0,29872.0,29078.0,28365.0,26865.0,25447.0,25431.0,25408.0,24046.0,22975.0,22737.0,21943.0,21902.0,21662.0,21418.0,21371.0,21178.0,21013.0,20098.0,18829.0,18816.0,18697.0,18356.0,21780.0,16940.0,16465.0,16359.0,15873.0,15770.0,15501.0,15190.0,14467.0,14390.0,13701.0,13000.0,12804.0,12765.0,11241.0,10708.0,10628.0,9832.0,8010.0,7199.0,6863.0,6517.0,5801.0,5085.0,4754.0,4558.0,4364.0,4337.0,4069.0,3897.0,3296.0,3110.0,3075.0,2810.0,2694.0,2582.0,2395.0,2203.0,2151.0,2127.0,2033.0,1707.0,1422.0,1406.0,1289.0,1134.0,1128.0,1024.0,708.0,581.0,311.0,308.0,305.0,161.0,66.0],\"type\":\"choropleth\"}],                        {\"template\":{\"data\":{\"histogram2dcontour\":[{\"type\":\"histogram2dcontour\",\"colorbar\":{\"outlinewidth\":0,\"ticks\":\"\"},\"colorscale\":[[0.0,\"#0d0887\"],[0.1111111111111111,\"#46039f\"],[0.2222222222222222,\"#7201a8\"],[0.3333333333333333,\"#9c179e\"],[0.4444444444444444,\"#bd3786\"],[0.5555555555555556,\"#d8576b\"],[0.6666666666666666,\"#ed7953\"],[0.7777777777777778,\"#fb9f3a\"],[0.8888888888888888,\"#fdca26\"],[1.0,\"#f0f921\"]]}],\"choropleth\":[{\"type\":\"choropleth\",\"colorbar\":{\"outlinewidth\":0,\"ticks\":\"\"}}],\"histogram2d\":[{\"type\":\"histogram2d\",\"colorbar\":{\"outlinewidth\":0,\"ticks\":\"\"},\"colorscale\":[[0.0,\"#0d0887\"],[0.1111111111111111,\"#46039f\"],[0.2222222222222222,\"#7201a8\"],[0.3333333333333333,\"#9c179e\"],[0.4444444444444444,\"#bd3786\"],[0.5555555555555556,\"#d8576b\"],[0.6666666666666666,\"#ed7953\"],[0.7777777777777778,\"#fb9f3a\"],[0.8888888888888888,\"#fdca26\"],[1.0,\"#f0f921\"]]}],\"heatmap\":[{\"type\":\"heatmap\",\"colorbar\":{\"outlinewidth\":0,\"ticks\":\"\"},\"colorscale\":[[0.0,\"#0d0887\"],[0.1111111111111111,\"#46039f\"],[0.2222222222222222,\"#7201a8\"],[0.3333333333333333,\"#9c179e\"],[0.4444444444444444,\"#bd3786\"],[0.5555555555555556,\"#d8576b\"],[0.6666666666666666,\"#ed7953\"],[0.7777777777777778,\"#fb9f3a\"],[0.8888888888888888,\"#fdca26\"],[1.0,\"#f0f921\"]]}],\"heatmapgl\":[{\"type\":\"heatmapgl\",\"colorbar\":{\"outlinewidth\":0,\"ticks\":\"\"},\"colorscale\":[[0.0,\"#0d0887\"],[0.1111111111111111,\"#46039f\"],[0.2222222222222222,\"#7201a8\"],[0.3333333333333333,\"#9c179e\"],[0.4444444444444444,\"#bd3786\"],[0.5555555555555556,\"#d8576b\"],[0.6666666666666666,\"#ed7953\"],[0.7777777777777778,\"#fb9f3a\"],[0.8888888888888888,\"#fdca26\"],[1.0,\"#f0f921\"]]}],\"contourcarpet\":[{\"type\":\"contourcarpet\",\"colorbar\":{\"outlinewidth\":0,\"ticks\":\"\"}}],\"contour\":[{\"type\":\"contour\",\"colorbar\":{\"outlinewidth\":0,\"ticks\":\"\"},\"colorscale\":[[0.0,\"#0d0887\"],[0.1111111111111111,\"#46039f\"],[0.2222222222222222,\"#7201a8\"],[0.3333333333333333,\"#9c179e\"],[0.4444444444444444,\"#bd3786\"],[0.5555555555555556,\"#d8576b\"],[0.6666666666666666,\"#ed7953\"],[0.7777777777777778,\"#fb9f3a\"],[0.8888888888888888,\"#fdca26\"],[1.0,\"#f0f921\"]]}],\"surface\":[{\"type\":\"surface\",\"colorbar\":{\"outlinewidth\":0,\"ticks\":\"\"},\"colorscale\":[[0.0,\"#0d0887\"],[0.1111111111111111,\"#46039f\"],[0.2222222222222222,\"#7201a8\"],[0.3333333333333333,\"#9c179e\"],[0.4444444444444444,\"#bd3786\"],[0.5555555555555556,\"#d8576b\"],[0.6666666666666666,\"#ed7953\"],[0.7777777777777778,\"#fb9f3a\"],[0.8888888888888888,\"#fdca26\"],[1.0,\"#f0f921\"]]}],\"mesh3d\":[{\"type\":\"mesh3d\",\"colorbar\":{\"outlinewidth\":0,\"ticks\":\"\"}}],\"scatter\":[{\"fillpattern\":{\"fillmode\":\"overlay\",\"size\":10,\"solidity\":0.2},\"type\":\"scatter\"}],\"parcoords\":[{\"type\":\"parcoords\",\"line\":{\"colorbar\":{\"outlinewidth\":0,\"ticks\":\"\"}}}],\"scatterpolargl\":[{\"type\":\"scatterpolargl\",\"marker\":{\"colorbar\":{\"outlinewidth\":0,\"ticks\":\"\"}}}],\"bar\":[{\"error_x\":{\"color\":\"#2a3f5f\"},\"error_y\":{\"color\":\"#2a3f5f\"},\"marker\":{\"line\":{\"color\":\"#E5ECF6\",\"width\":0.5},\"pattern\":{\"fillmode\":\"overlay\",\"size\":10,\"solidity\":0.2}},\"type\":\"bar\"}],\"scattergeo\":[{\"type\":\"scattergeo\",\"marker\":{\"colorbar\":{\"outlinewidth\":0,\"ticks\":\"\"}}}],\"scatterpolar\":[{\"type\":\"scatterpolar\",\"marker\":{\"colorbar\":{\"outlinewidth\":0,\"ticks\":\"\"}}}],\"histogram\":[{\"marker\":{\"pattern\":{\"fillmode\":\"overlay\",\"size\":10,\"solidity\":0.2}},\"type\":\"histogram\"}],\"scattergl\":[{\"type\":\"scattergl\",\"marker\":{\"colorbar\":{\"outlinewidth\":0,\"ticks\":\"\"}}}],\"scatter3d\":[{\"type\":\"scatter3d\",\"line\":{\"colorbar\":{\"outlinewidth\":0,\"ticks\":\"\"}},\"marker\":{\"colorbar\":{\"outlinewidth\":0,\"ticks\":\"\"}}}],\"scattermapbox\":[{\"type\":\"scattermapbox\",\"marker\":{\"colorbar\":{\"outlinewidth\":0,\"ticks\":\"\"}}}],\"scatterternary\":[{\"type\":\"scatterternary\",\"marker\":{\"colorbar\":{\"outlinewidth\":0,\"ticks\":\"\"}}}],\"scattercarpet\":[{\"type\":\"scattercarpet\",\"marker\":{\"colorbar\":{\"outlinewidth\":0,\"ticks\":\"\"}}}],\"carpet\":[{\"aaxis\":{\"endlinecolor\":\"#2a3f5f\",\"gridcolor\":\"white\",\"linecolor\":\"white\",\"minorgridcolor\":\"white\",\"startlinecolor\":\"#2a3f5f\"},\"baxis\":{\"endlinecolor\":\"#2a3f5f\",\"gridcolor\":\"white\",\"linecolor\":\"white\",\"minorgridcolor\":\"white\",\"startlinecolor\":\"#2a3f5f\"},\"type\":\"carpet\"}],\"table\":[{\"cells\":{\"fill\":{\"color\":\"#EBF0F8\"},\"line\":{\"color\":\"white\"}},\"header\":{\"fill\":{\"color\":\"#C8D4E3\"},\"line\":{\"color\":\"white\"}},\"type\":\"table\"}],\"barpolar\":[{\"marker\":{\"line\":{\"color\":\"#E5ECF6\",\"width\":0.5},\"pattern\":{\"fillmode\":\"overlay\",\"size\":10,\"solidity\":0.2}},\"type\":\"barpolar\"}],\"pie\":[{\"automargin\":true,\"type\":\"pie\"}]},\"layout\":{\"autotypenumbers\":\"strict\",\"colorway\":[\"#636efa\",\"#EF553B\",\"#00cc96\",\"#ab63fa\",\"#FFA15A\",\"#19d3f3\",\"#FF6692\",\"#B6E880\",\"#FF97FF\",\"#FECB52\"],\"font\":{\"color\":\"#2a3f5f\"},\"hovermode\":\"closest\",\"hoverlabel\":{\"align\":\"left\"},\"paper_bgcolor\":\"white\",\"plot_bgcolor\":\"#E5ECF6\",\"polar\":{\"bgcolor\":\"#E5ECF6\",\"angularaxis\":{\"gridcolor\":\"white\",\"linecolor\":\"white\",\"ticks\":\"\"},\"radialaxis\":{\"gridcolor\":\"white\",\"linecolor\":\"white\",\"ticks\":\"\"}},\"ternary\":{\"bgcolor\":\"#E5ECF6\",\"aaxis\":{\"gridcolor\":\"white\",\"linecolor\":\"white\",\"ticks\":\"\"},\"baxis\":{\"gridcolor\":\"white\",\"linecolor\":\"white\",\"ticks\":\"\"},\"caxis\":{\"gridcolor\":\"white\",\"linecolor\":\"white\",\"ticks\":\"\"}},\"coloraxis\":{\"colorbar\":{\"outlinewidth\":0,\"ticks\":\"\"}},\"colorscale\":{\"sequential\":[[0.0,\"#0d0887\"],[0.1111111111111111,\"#46039f\"],[0.2222222222222222,\"#7201a8\"],[0.3333333333333333,\"#9c179e\"],[0.4444444444444444,\"#bd3786\"],[0.5555555555555556,\"#d8576b\"],[0.6666666666666666,\"#ed7953\"],[0.7777777777777778,\"#fb9f3a\"],[0.8888888888888888,\"#fdca26\"],[1.0,\"#f0f921\"]],\"sequentialminus\":[[0.0,\"#0d0887\"],[0.1111111111111111,\"#46039f\"],[0.2222222222222222,\"#7201a8\"],[0.3333333333333333,\"#9c179e\"],[0.4444444444444444,\"#bd3786\"],[0.5555555555555556,\"#d8576b\"],[0.6666666666666666,\"#ed7953\"],[0.7777777777777778,\"#fb9f3a\"],[0.8888888888888888,\"#fdca26\"],[1.0,\"#f0f921\"]],\"diverging\":[[0,\"#8e0152\"],[0.1,\"#c51b7d\"],[0.2,\"#de77ae\"],[0.3,\"#f1b6da\"],[0.4,\"#fde0ef\"],[0.5,\"#f7f7f7\"],[0.6,\"#e6f5d0\"],[0.7,\"#b8e186\"],[0.8,\"#7fbc41\"],[0.9,\"#4d9221\"],[1,\"#276419\"]]},\"xaxis\":{\"gridcolor\":\"white\",\"linecolor\":\"white\",\"ticks\":\"\",\"title\":{\"standoff\":15},\"zerolinecolor\":\"white\",\"automargin\":true,\"zerolinewidth\":2},\"yaxis\":{\"gridcolor\":\"white\",\"linecolor\":\"white\",\"ticks\":\"\",\"title\":{\"standoff\":15},\"zerolinecolor\":\"white\",\"automargin\":true,\"zerolinewidth\":2},\"scene\":{\"xaxis\":{\"backgroundcolor\":\"#E5ECF6\",\"gridcolor\":\"white\",\"linecolor\":\"white\",\"showbackground\":true,\"ticks\":\"\",\"zerolinecolor\":\"white\",\"gridwidth\":2},\"yaxis\":{\"backgroundcolor\":\"#E5ECF6\",\"gridcolor\":\"white\",\"linecolor\":\"white\",\"showbackground\":true,\"ticks\":\"\",\"zerolinecolor\":\"white\",\"gridwidth\":2},\"zaxis\":{\"backgroundcolor\":\"#E5ECF6\",\"gridcolor\":\"white\",\"linecolor\":\"white\",\"showbackground\":true,\"ticks\":\"\",\"zerolinecolor\":\"white\",\"gridwidth\":2}},\"shapedefaults\":{\"line\":{\"color\":\"#2a3f5f\"}},\"annotationdefaults\":{\"arrowcolor\":\"#2a3f5f\",\"arrowhead\":0,\"arrowwidth\":1},\"geo\":{\"bgcolor\":\"white\",\"landcolor\":\"#E5ECF6\",\"subunitcolor\":\"white\",\"showland\":true,\"showlakes\":true,\"lakecolor\":\"white\"},\"title\":{\"x\":0.05},\"mapbox\":{\"style\":\"light\"}}},\"geo\":{\"domain\":{\"x\":[0.0,1.0],\"y\":[0.0,1.0]},\"center\":{}},\"coloraxis\":{\"colorbar\":{\"title\":{\"text\":\"GDP (US$ Millions)\"}},\"colorscale\":[[0.0,\"#0d0887\"],[0.1111111111111111,\"#46039f\"],[0.2222222222222222,\"#7201a8\"],[0.3333333333333333,\"#9c179e\"],[0.4444444444444444,\"#bd3786\"],[0.5555555555555556,\"#d8576b\"],[0.6666666666666666,\"#ed7953\"],[0.7777777777777778,\"#fb9f3a\"],[0.8888888888888888,\"#fdca26\"],[1.0,\"#f0f921\"]]},\"legend\":{\"tracegroupgap\":0},\"title\":{\"text\":\"World GDP Distribution\"}},                        {\"responsive\": true}                    ).then(function(){\n",
              "                            \n",
              "var gd = document.getElementById('29614841-7931-415a-aa50-b35e8de8c578');\n",
              "var x = new MutationObserver(function (mutations, observer) {{\n",
              "        var display = window.getComputedStyle(gd).display;\n",
              "        if (!display || display === 'none') {{\n",
              "            console.log([gd, 'removed!']);\n",
              "            Plotly.purge(gd);\n",
              "            observer.disconnect();\n",
              "        }}\n",
              "}});\n",
              "\n",
              "// Listen for the removal of the full notebook cells\n",
              "var notebookContainer = gd.closest('#notebook-container');\n",
              "if (notebookContainer) {{\n",
              "    x.observe(notebookContainer, {childList: true});\n",
              "}}\n",
              "\n",
              "// Listen for the clearing of the current output cell\n",
              "var outputEl = gd.closest('.output');\n",
              "if (outputEl) {{\n",
              "    x.observe(outputEl, {childList: true});\n",
              "}}\n",
              "\n",
              "                        })                };                            </script>        </div>\n",
              "</body>\n",
              "</html>"
            ]
          },
          "metadata": {}
        }
      ]
    },
    {
      "cell_type": "markdown",
      "source": [
        "CONCLUSION\n",
        "1. The United States and China dominate the global GDP ranking.\n",
        "2. Significant disparities exist among regions and countries."
      ],
      "metadata": {
        "id": "Gye0i0DjHSs2"
      }
    },
    {
      "cell_type": "markdown",
      "source": [
        "RECOMMENDATION\n",
        "\n",
        "Further studies is needed in order to analyze GDP growth trends and their underlying factors."
      ],
      "metadata": {
        "id": "BLyBNNsMHmsp"
      }
    }
  ]
}