{
 "cells": [
  {
   "cell_type": "markdown",
   "metadata": {},
   "source": [
    "# Week1 Day2"
   ]
  },
  {
   "cell_type": "markdown",
   "metadata": {},
   "source": [
    "## Strings"
   ]
  },
  {
   "cell_type": "code",
   "execution_count": 1,
   "metadata": {},
   "outputs": [
    {
     "name": "stdout",
     "output_type": "stream",
     "text": [
      "hello world\n"
     ]
    }
   ],
   "source": [
    "print('hello' + ' ' +'world')"
   ]
  },
  {
   "cell_type": "code",
   "execution_count": 3,
   "metadata": {},
   "outputs": [
    {
     "name": "stdout",
     "output_type": "stream",
     "text": [
      "24\n"
     ]
    }
   ],
   "source": [
    "sentence = \"Learn to code in Python!\"\n",
    "sentence_len = len(sentence)\n",
    "print(sentence_len)"
   ]
  },
  {
   "cell_type": "code",
   "execution_count": 4,
   "metadata": {},
   "outputs": [
    {
     "name": "stdout",
     "output_type": "stream",
     "text": [
      "Program\n"
     ]
    }
   ],
   "source": [
    "lang =\"Python Programming\"\n",
    "lang_subset = lang[7:14]\n",
    "print(lang_subset)"
   ]
  },
  {
   "cell_type": "code",
   "execution_count": 5,
   "metadata": {},
   "outputs": [
    {
     "name": "stdout",
     "output_type": "stream",
     "text": [
      "PYTHON ROCKS!\n",
      "python rocks!\n",
      "Python Rocks!\n"
     ]
    }
   ],
   "source": [
    "text=\"Python Rocks!\" \n",
    "text_upper = text.upper()\n",
    "print(text_upper)\n",
    "text_lower = text.lower()\n",
    "print(text_lower)\n",
    "text_title = text.title()\n",
    "print(text_title)"
   ]
  },
  {
   "cell_type": "code",
   "execution_count": 6,
   "metadata": {},
   "outputs": [
    {
     "name": "stdout",
     "output_type": "stream",
     "text": [
      "Python is not good\n"
     ]
    }
   ],
   "source": [
    "change = \"Python is not bad\"\n",
    "change_one = change.replace('bad', 'good')\n",
    "print(change_one)"
   ]
  },
  {
   "cell_type": "code",
   "execution_count": 7,
   "metadata": {},
   "outputs": [
    {
     "name": "stdout",
     "output_type": "stream",
     "text": [
      "nohtyP\n"
     ]
    }
   ],
   "source": [
    "s = \"Python\" \n",
    "t = s[::-1]\n",
    "print(t)"
   ]
  },
  {
   "cell_type": "code",
   "execution_count": 8,
   "metadata": {},
   "outputs": [
    {
     "name": "stdout",
     "output_type": "stream",
     "text": [
      "['Learn', 'Python', 'the', 'easy', 'way']\n",
      "Learn-Python-the-easy-way\n"
     ]
    }
   ],
   "source": [
    "# Original string\n",
    "text = \"Learn Python the easy way\"\n",
    "\n",
    "# Split the string into a list of words\n",
    "word_list = text.split()\n",
    "print(word_list)\n",
    "\n",
    "# Join the words back together with hyphens\n",
    "equal_text = '-'.join(word_list)\n",
    "\n",
    "# Print the result\n",
    "print(equal_text)\n"
   ]
  },
  {
   "cell_type": "code",
   "execution_count": 9,
   "metadata": {},
   "outputs": [
    {
     "name": "stdout",
     "output_type": "stream",
     "text": [
      "6\n"
     ]
    }
   ],
   "source": [
    "# The given string\n",
    "text = \"banana apple avocado\"\n",
    "\n",
    "# Count how many times 'a' appears\n",
    "count_a = text.count('a')\n",
    "\n",
    "# Print the result\n",
    "print(count_a)"
   ]
  },
  {
   "cell_type": "code",
   "execution_count": 10,
   "metadata": {},
   "outputs": [
    {
     "name": "stdout",
     "output_type": "stream",
     "text": [
      "I scored 95 in Python and is awesome\n"
     ]
    }
   ],
   "source": [
    "score = 95\n",
    "subject = \"Python\"\n",
    "result = \"awesome\"\n",
    "print(f\"I scored {score} in {subject} and is {result}\")"
   ]
  },
  {
   "cell_type": "markdown",
   "metadata": {},
   "source": [
    "# Lists/Tuples"
   ]
  },
  {
   "cell_type": "code",
   "execution_count": 18,
   "metadata": {},
   "outputs": [
    {
     "name": "stdout",
     "output_type": "stream",
     "text": [
      "First item: apple\n",
      "Last item: elderberry\n"
     ]
    }
   ],
   "source": [
    "# Create and Print List\n",
    "fruits = [\"apple\", \"banana\", \"cherry\", \"date\", \"elderberry\"]\n",
    "print(\"First item:\", fruits[0])\n",
    "print(\"Last item:\", fruits[-1])\n"
   ]
  },
  {
   "cell_type": "code",
   "execution_count": 19,
   "metadata": {},
   "outputs": [
    {
     "name": "stdout",
     "output_type": "stream",
     "text": [
      "Modified List: ['apple', 'blueberry', 'date', 'elderberry', 'fig']\n"
     ]
    }
   ],
   "source": [
    "# Modify List\n",
    "fruits = [\"apple\", \"banana\", \"cherry\", \"date\", \"elderberry\"]\n",
    "fruits.append(\"fig\")  # Add \"fig\"\n",
    "fruits.remove(\"cherry\")  # Remove \"cherry\"\n",
    "fruits[1] = \"blueberry\"  # Replace \"banana\" with \"blueberry\"\n",
    "print(\"Modified List:\", fruits)\n"
   ]
  },
  {
   "cell_type": "code",
   "execution_count": 22,
   "metadata": {},
   "outputs": [
    {
     "name": "stdout",
     "output_type": "stream",
     "text": [
      "Sorted List: ['apple', 'blueberry', 'date', 'elderberry', 'fig']\n",
      "Reversed List: ['fig', 'elderberry', 'date', 'blueberry', 'apple']\n"
     ]
    }
   ],
   "source": [
    "# Sort and Reverse List\n",
    "fruits = [\"apple\", \"blueberry\", \"date\", \"elderberry\", \"fig\"]\n",
    "fruits.sort()  # Sort in ascending order\n",
    "print(\"Sorted List:\", fruits)\n",
    "fruits.reverse()  # Reverse the list\n",
    "print(\"Reversed List:\", fruits)\n"
   ]
  },
  {
   "cell_type": "code",
   "execution_count": 23,
   "metadata": {},
   "outputs": [
    {
     "name": "stdout",
     "output_type": "stream",
     "text": [
      "First three languages: ['Python', 'Java', 'C++']\n"
     ]
    }
   ],
   "source": [
    "# Slice List\n",
    "languages = [\"Python\", \"Java\", \"C++\", \"Ruby\", \"Go\"]\n",
    "first_three = languages[:3]  # Extract first three items\n",
    "print(\"First three languages:\", first_three)\n"
   ]
  },
  {
   "cell_type": "code",
   "execution_count": 24,
   "metadata": {},
   "outputs": [
    {
     "name": "stdout",
     "output_type": "stream",
     "text": [
      "Sum of numbers: 150\n"
     ]
    }
   ],
   "source": [
    "numbers = [10, 20, 30, 40, 50]\n",
    "total = sum(numbers)  # Calculate the sum\n",
    "print(\"Sum of numbers:\", total)\n"
   ]
  },
  {
   "cell_type": "code",
   "execution_count": 25,
   "metadata": {},
   "outputs": [
    {
     "name": "stdout",
     "output_type": "stream",
     "text": [
      "Maximum: 50\n",
      "Minimum: 10\n"
     ]
    }
   ],
   "source": [
    "numbers_tuple = (10, 20, 30, 40, 50)\n",
    "maximum = max(numbers_tuple)  # Find maximum value\n",
    "minimum = min(numbers_tuple)  # Find minimum value\n",
    "print(\"Maximum:\", maximum)\n",
    "print(\"Minimum:\", minimum)\n"
   ]
  },
  {
   "cell_type": "code",
   "execution_count": 26,
   "metadata": {},
   "outputs": [
    {
     "name": "stdout",
     "output_type": "stream",
     "text": [
      "Tuple: ('red', 'green', 'blue')\n"
     ]
    }
   ],
   "source": [
    "colors = [\"red\", \"green\", \"blue\"]\n",
    "colors_tuple = tuple(colors)  # Convert to tuple\n",
    "print(\"Tuple:\", colors_tuple)\n"
   ]
  },
  {
   "cell_type": "code",
   "execution_count": 27,
   "metadata": {},
   "outputs": [
    {
     "name": "stdout",
     "output_type": "stream",
     "text": [
      "Unpacked values: 1 2 3\n"
     ]
    }
   ],
   "source": [
    "tuple_values = (1, 2, 3)\n",
    "a, b, c = tuple_values  # Unpack the tuple\n",
    "print(\"Unpacked values:\", a, b, c)\n"
   ]
  },
  {
   "cell_type": "code",
   "execution_count": 28,
   "metadata": {},
   "outputs": [
    {
     "name": "stdout",
     "output_type": "stream",
     "text": [
      "Squares: [1, 4, 9, 16, 25, 36, 49, 64, 81, 100]\n"
     ]
    }
   ],
   "source": [
    "squares = [x**2 for x in range(1, 11)]  # Squares of numbers from 1 to 10\n",
    "print(\"Squares:\", squares)\n"
   ]
  },
  {
   "cell_type": "code",
   "execution_count": 29,
   "metadata": {},
   "outputs": [
    {
     "name": "stdout",
     "output_type": "stream",
     "text": [
      "Index of 'C++': 2\n"
     ]
    }
   ],
   "source": [
    "languages = [\"Python\", \"Java\", \"C++\", \"Ruby\", \"Go\"]\n",
    "index = languages.index(\"C++\")  # Find the index of \"C++\"\n",
    "print(\"Index of 'C++':\", index)\n"
   ]
  },
  {
   "cell_type": "markdown",
   "metadata": {},
   "source": [
    "## Dictionary"
   ]
  },
  {
   "cell_type": "code",
   "execution_count": 30,
   "metadata": {},
   "outputs": [],
   "source": [
    "# Create a dictionary with three key-value pairs\n",
    "person = {\"name\": \"Alice\", \"age\": 25, \"city\": \"New York\"}"
   ]
  },
  {
   "cell_type": "code",
   "execution_count": 31,
   "metadata": {},
   "outputs": [
    {
     "name": "stdout",
     "output_type": "stream",
     "text": [
      "New York\n"
     ]
    }
   ],
   "source": [
    "# Access and print the value of \"city\"\n",
    "print(person[\"city\"])  # Output: \"New York\""
   ]
  },
  {
   "cell_type": "code",
   "execution_count": 32,
   "metadata": {},
   "outputs": [
    {
     "name": "stdout",
     "output_type": "stream",
     "text": [
      "{'name': 'Alice', 'age': 30, 'city': 'New York'}\n"
     ]
    }
   ],
   "source": [
    "# Update the \"age\" to 30\n",
    "person[\"age\"] = 30\n",
    "print(person)  # Output: {'name': 'Alice', 'age': 30, 'city': 'New York'}"
   ]
  },
  {
   "cell_type": "code",
   "execution_count": 33,
   "metadata": {},
   "outputs": [
    {
     "name": "stdout",
     "output_type": "stream",
     "text": [
      "{'name': 'Alice', 'age': 30, 'city': 'New York', 'country': 'USA'}\n"
     ]
    }
   ],
   "source": [
    "# Add a new key \"country\" with value \"USA\"\n",
    "person[\"country\"] = \"USA\"\n",
    "print(person)  # Output: {'name': 'Alice', 'age': 30, 'city': 'New York', 'country': 'USA'}"
   ]
  },
  {
   "cell_type": "code",
   "execution_count": 34,
   "metadata": {},
   "outputs": [
    {
     "name": "stdout",
     "output_type": "stream",
     "text": [
      "{'name': 'Alice', 'age': 30, 'country': 'USA'}\n"
     ]
    }
   ],
   "source": [
    "# Remove the \"city\" key\n",
    "del person[\"city\"]\n",
    "print(person)  # Output: {'name': 'Alice', 'age': 30, 'country': 'USA'}"
   ]
  },
  {
   "cell_type": "code",
   "execution_count": 35,
   "metadata": {},
   "outputs": [
    {
     "name": "stdout",
     "output_type": "stream",
     "text": [
      "True\n"
     ]
    }
   ],
   "source": [
    "# Check if the key \"name\" exists\n",
    "print(\"name\" in person)  # Output: True"
   ]
  },
  {
   "cell_type": "code",
   "execution_count": 36,
   "metadata": {},
   "outputs": [
    {
     "name": "stdout",
     "output_type": "stream",
     "text": [
      "name: Alice\n",
      "age: 30\n",
      "country: USA\n"
     ]
    }
   ],
   "source": [
    "# Iterate over the dictionary and print each key and value\n",
    "for key, value in person.items():\n",
    "    print(f\"{key}: {value}\")\n",
    "# Example Output:\n",
    "# name: Alice\n",
    "# age: 30\n",
    "# country: USA"
   ]
  },
  {
   "cell_type": "code",
   "execution_count": 37,
   "metadata": {},
   "outputs": [
    {
     "name": "stdout",
     "output_type": "stream",
     "text": [
      "{'x': 1, 'y': 3, 'z': 4}\n"
     ]
    }
   ],
   "source": [
    "# Merge two dictionaries\n",
    "dict1 = {\"x\": 1, \"y\": 2}\n",
    "dict2 = {\"y\": 3, \"z\": 4}\n",
    "merged_dict = {**dict1, **dict2}  # dict2 values overwrite dict1 values for duplicate keys\n",
    "print(merged_dict)  # Output: {'x': 1, 'y': 3, 'z': 4}"
   ]
  },
  {
   "cell_type": "code",
   "execution_count": 38,
   "metadata": {},
   "outputs": [
    {
     "name": "stdout",
     "output_type": "stream",
     "text": [
      "Keys: ['Python', 'Java', 'C++']\n",
      "Values: [1991, 1995, 1985]\n"
     ]
    }
   ],
   "source": [
    "# Print all the keys and values from a dictionary\n",
    "languages = {\"Python\": 1991, \"Java\": 1995, \"C++\": 1985}\n",
    "print(\"Keys:\", list(languages.keys()))   # Output: ['Python', 'Java', 'C++']\n",
    "print(\"Values:\", list(languages.values()))  # Output: [1991, 1995, 1985]"
   ]
  },
  {
   "cell_type": "code",
   "execution_count": 39,
   "metadata": {},
   "outputs": [
    {
     "name": "stdout",
     "output_type": "stream",
     "text": [
      "{1: 1, 2: 4, 3: 9, 4: 16, 5: 25}\n"
     ]
    }
   ],
   "source": [
    "# Create a dictionary where keys are numbers 1 to 5, and values are their squares\n",
    "squares = {num: num**2 for num in range(1, 6)}\n",
    "print(squares)  # Output: {1: 1, 2: 4, 3: 9, 4: 16, 5: 25}"
   ]
  },
  {
   "cell_type": "markdown",
   "metadata": {},
   "source": [
    "## sets"
   ]
  },
  {
   "cell_type": "code",
   "execution_count": 40,
   "metadata": {},
   "outputs": [
    {
     "name": "stdout",
     "output_type": "stream",
     "text": [
      "{'red', 'blue', 'green'}\n"
     ]
    }
   ],
   "source": [
    "# Creating a set\n",
    "color = {\"red\", \"green\", \"blue\"}\n",
    "print(color)\n"
   ]
  },
  {
   "cell_type": "code",
   "execution_count": 41,
   "metadata": {},
   "outputs": [
    {
     "name": "stdout",
     "output_type": "stream",
     "text": [
      "{'red', 'blue', 'green', 'yellow'}\n"
     ]
    }
   ],
   "source": [
    "# Adding an element\n",
    "color.add(\"yellow\")\n",
    "print(color)"
   ]
  },
  {
   "cell_type": "code",
   "execution_count": 42,
   "metadata": {},
   "outputs": [
    {
     "name": "stdout",
     "output_type": "stream",
     "text": [
      "{'red', 'blue', 'yellow'}\n"
     ]
    }
   ],
   "source": [
    "# Remove element\n",
    "color.remove(\"green\")\n",
    "print(color)"
   ]
  },
  {
   "cell_type": "code",
   "execution_count": 43,
   "metadata": {},
   "outputs": [
    {
     "name": "stdout",
     "output_type": "stream",
     "text": [
      "is there blue in colors? True\n"
     ]
    }
   ],
   "source": [
    "#checking membership\n",
    "is_blue_in = \"blue\" in color\n",
    "print(f\"is there blue in colors? {is_blue_in}\")"
   ]
  },
  {
   "cell_type": "code",
   "execution_count": 44,
   "metadata": {},
   "outputs": [
    {
     "name": "stdout",
     "output_type": "stream",
     "text": [
      "Union of {1, 2, 3} and {3, 4, 5}: {1, 2, 3, 4, 5}\n"
     ]
    }
   ],
   "source": [
    "# Union of two sets\n",
    "set1 = {1, 2, 3}\n",
    "set2 = {3, 4, 5}\n",
    "union_set = set1.union(set2)\n",
    "print(f\"Union of {set1} and {set2}: {union_set}\")\n"
   ]
  },
  {
   "cell_type": "code",
   "execution_count": 45,
   "metadata": {},
   "outputs": [
    {
     "name": "stdout",
     "output_type": "stream",
     "text": [
      "Intersection of {1, 2, 3} and {3, 4, 5}: {3}\n"
     ]
    }
   ],
   "source": [
    "# Intersection for two sets\n",
    "intersection_set = set1.intersection(set2)\n",
    "print(f\"Intersection of {set1} and {set2}: {intersection_set}\")"
   ]
  },
  {
   "cell_type": "code",
   "execution_count": 46,
   "metadata": {},
   "outputs": [
    {
     "name": "stdout",
     "output_type": "stream",
     "text": [
      "Difference of {1, 2, 3} and {3, 4, 5}: {1, 2}\n"
     ]
    }
   ],
   "source": [
    "# Difference between two sets\n",
    "difference_set = set1.difference(set2)\n",
    "print(f\"Difference of {set1} and {set2}: {difference_set}\")"
   ]
  },
  {
   "cell_type": "code",
   "execution_count": 47,
   "metadata": {},
   "outputs": [
    {
     "name": "stdout",
     "output_type": "stream",
     "text": [
      " The lenght of the set {1, 2, 3, 4, 5} is: 5\n"
     ]
    }
   ],
   "source": [
    "# lenght of a set\n",
    "sample = {1, 2, 3, 4, 5}\n",
    "set_lenght = len(sample)\n",
    "print(f\" The lenght of the set {sample} is: {set_lenght}\")"
   ]
  },
  {
   "cell_type": "code",
   "execution_count": 48,
   "metadata": {},
   "outputs": [
    {
     "name": "stdout",
     "output_type": "stream",
     "text": [
      "Is {1, 2} a subset of set {1, 2, 3, 4, 5} ? True\n",
      "Is {1, 2, 3, 4, 5} a subset of set {1, 2} ? True\n"
     ]
    }
   ],
   "source": [
    "# checking for subset and superset\n",
    "set_a = {1, 2}\n",
    "set_b = {1, 2, 3, 4, 5}\n",
    "\n",
    "is_subset = set_a.issubset(set_b)\n",
    "is_superset = set_b.issuperset(set_a)\n",
    "print(f\"Is {set_a} a subset of set {set_b} ? {is_subset}\")\n",
    "print(f\"Is {set_b} a subset of set {set_a} ? {is_superset}\")"
   ]
  },
  {
   "cell_type": "code",
   "execution_count": 49,
   "metadata": {},
   "outputs": [
    {
     "name": "stdout",
     "output_type": "stream",
     "text": [
      "Set after removing duplicates from [1, 2, 2, 3, 4, 4] is: {1, 2, 3, 4}\n"
     ]
    }
   ],
   "source": [
    "my_list = [1, 2, 2, 3, 4, 4]\n",
    "unique_set = set(my_list)\n",
    "print(f\"Set after removing duplicates from {my_list} is: {unique_set}\")"
   ]
  },
  {
   "cell_type": "code",
   "execution_count": null,
   "metadata": {},
   "outputs": [],
   "source": []
  }
 ],
 "metadata": {
  "kernelspec": {
   "display_name": "Python 3",
   "language": "python",
   "name": "python3"
  },
  "language_info": {
   "codemirror_mode": {
    "name": "ipython",
    "version": 3
   },
   "file_extension": ".py",
   "mimetype": "text/x-python",
   "name": "python",
   "nbconvert_exporter": "python",
   "pygments_lexer": "ipython3",
   "version": "3.6.4"
  }
 },
 "nbformat": 4,
 "nbformat_minor": 5
}
