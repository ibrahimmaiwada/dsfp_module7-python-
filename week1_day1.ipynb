{
 "cells": [
  {
   "cell_type": "markdown",
   "metadata": {},
   "source": [
    "# Introduction to Jupyter Notebook\n",
    "Jupyter Notebook (formerly known as IPython Notebook) is an interactive web application for creating and sharing computational documents. This notebook demonstrates basic Jupyter Notebook functionality, including markdown formatting, Python code execution, and the use of magic commands."
   ]
  },
  {
   "cell_type": "markdown",
   "metadata": {},
   "source": [
    "## Markdown Formatting Example\n",
    "### Numbered List\n",
    "1. Introduction to Jupyter Notebook\n",
    "2. Markdown Formatting\n",
    "3. Code Execution\n",
    "\n",
    "### Bulleted List\n",
    "- Python basics\n",
    "- Notebook export\n",
    "- Visualization"
   ]
  },
  {
   "cell_type": "code",
   "execution_count": 3,
   "metadata": {},
   "outputs": [
    {
     "name": "stdout",
     "output_type": "stream",
     "text": [
      "Hello, World!\n"
     ]
    }
   ],
   "source": [
    "print(\"Hello, World!\")"
   ]
  },
  {
   "cell_type": "markdown",
   "metadata": {},
   "source": [
    "### Useful Resource\n",
    "![Python Logo](https://www.python.org/static/community_logos/python-logo-master-v3-TM.png)\n",
    "\n",
    "Visit the [Python Official Website](https://www.python.org) for more information."
   ]
  },
  {
   "cell_type": "code",
   "execution_count": 5,
   "metadata": {},
   "outputs": [
    {
     "name": "stdout",
     "output_type": "stream",
     "text": [
      "Help on built-in function print in module builtins:\n",
      "\n",
      "print(...)\n",
      "    print(value, ..., sep=' ', end='\\n', file=sys.stdout, flush=False)\n",
      "    \n",
      "    Prints the values to a stream, or to sys.stdout by default.\n",
      "    Optional keyword arguments:\n",
      "    file:  a file-like object (stream); defaults to the current sys.stdout.\n",
      "    sep:   string inserted between values, default a space.\n",
      "    end:   string appended after the last value, default a newline.\n",
      "    flush: whether to forcibly flush the stream.\n",
      "\n"
     ]
    }
   ],
   "source": [
    "help(print)"
   ]
  },
  {
   "cell_type": "code",
   "execution_count": 6,
   "metadata": {},
   "outputs": [
    {
     "name": "stdout",
     "output_type": "stream",
     "text": [
      "Multiplication result: 50\n"
     ]
    }
   ],
   "source": [
    "# This cell demonstrates the use of comments in Python.\n",
    "# basic arithmetic operations.\n",
    "# Comments are ignored by the Python interpreter.\n",
    "a = 10\n",
    "b = 5\n",
    "result = a * b  # Multiplication\n",
    "print(\"Multiplication result:\", result)"
   ]
  },
  {
   "cell_type": "code",
   "execution_count": 7,
   "metadata": {},
   "outputs": [
    {
     "name": "stdout",
     "output_type": "stream",
     "text": [
      "CPU times: user 7.96 ms, sys: 257 µs, total: 8.21 ms\n",
      "Wall time: 8.07 ms\n",
      "No variables match your requested type.\n"
     ]
    }
   ],
   "source": [
    "# Using magic commands\n",
    "%time sum(range(100000))  # Measures execution time of summing up a range of numbers\n",
    "%who  # Lists all variables in the current notebook"
   ]
  },
  {
   "cell_type": "markdown",
   "metadata": {},
   "source": [
    "| Name              | Age | Profession     |\n",
    "|-------------------|-----|----------------|\n",
    "| Ibrahim Abdullahi | 27  | Data Scientist     |"
   ]
  },
  {
   "cell_type": "code",
   "execution_count": 8,
   "metadata": {},
   "outputs": [],
   "source": [
    "#commment"
   ]
  },
  {
   "cell_type": "code",
   "execution_count": 9,
   "metadata": {},
   "outputs": [
    {
     "data": {
      "text/plain": [
       "{'name': 'John', 'age': 30}"
      ]
     },
     "execution_count": 9,
     "metadata": {},
     "output_type": "execute_result"
    }
   ],
   "source": [
    "# Values and their data types:\n",
    "42                   # int\n",
    "3.14                 # float\n",
    "\"Python\"             # str\n",
    "[1, 2, 3]            # list\n",
    "{\"name\": \"John\", \"age\": 30}  # dict"
   ]
  },
  {
   "cell_type": "code",
   "execution_count": 10,
   "metadata": {},
   "outputs": [
    {
     "name": "stdout",
     "output_type": "stream",
     "text": [
      "42.0\n",
      "<class 'float'>\n",
      "42\n",
      "<class 'str'>\n"
     ]
    }
   ],
   "source": [
    "# Convert integer 42 to float and string\n",
    "num = 42\n",
    "num_float = float(num)\n",
    "num_str = str(num)\n",
    "\n",
    "print(num_float)  # Output: 42.0\n",
    "print(type(num_float))  # Output: <class 'float'>\n",
    "\n",
    "print(num_str)  # Output: \"42\"\n",
    "print(type(num_str))  # Output: <class 'str'>"
   ]
  },
  {
   "cell_type": "code",
   "execution_count": 11,
   "metadata": {},
   "outputs": [
    {
     "name": "stdout",
     "output_type": "stream",
     "text": [
      "<class 'list'>\n"
     ]
    }
   ],
   "source": [
    "# List of favorite fruits\n",
    "fruits = [\"Apple\", \"Banana\", \"Mango\", \"Orange\", \"Pineapple\"]\n",
    "print(type(fruits))  # Output: <class 'list'>"
   ]
  },
  {
   "cell_type": "code",
   "execution_count": 12,
   "metadata": {},
   "outputs": [
    {
     "name": "stdout",
     "output_type": "stream",
     "text": [
      "The variable is of type str.\n"
     ]
    }
   ],
   "source": [
    "# Check if variable is a string\n",
    "var = \"Hello, World!\"\n",
    "if isinstance(var, str):\n",
    "    print(\"The variable is of type str.\")\n",
    "else:\n",
    "    print(\"The variable is not of type str.\")"
   ]
  },
  {
   "cell_type": "code",
   "execution_count": 13,
   "metadata": {},
   "outputs": [
    {
     "name": "stdout",
     "output_type": "stream",
     "text": [
      "Python\n"
     ]
    }
   ],
   "source": [
    "# Tuple with three different data types\n",
    "mixed_tuple = (42, \"Python\", 3.14)\n",
    "second_element = mixed_tuple[1]\n",
    "print(second_element)  # Output: Python"
   ]
  },
  {
   "cell_type": "code",
   "execution_count": 14,
   "metadata": {},
   "outputs": [
    {
     "name": "stdout",
     "output_type": "stream",
     "text": [
      "25\n"
     ]
    }
   ],
   "source": [
    "# Dictionary with three key-value pairs\n",
    "person = {\"name\": \"Alice\", \"age\": 25, \"city\": \"London\"}\n",
    "value = person[\"age\"]\n",
    "print(value)  # Output: 25"
   ]
  },
  {
   "cell_type": "code",
   "execution_count": 15,
   "metadata": {},
   "outputs": [
    {
     "name": "stdout",
     "output_type": "stream",
     "text": [
      "<class 'int'>\n",
      "<class 'float'>\n",
      "<class 'str'>\n",
      "<class 'list'>\n",
      "<class 'dict'>\n"
     ]
    }
   ],
   "source": [
    "# Variables\n",
    "a = 42\n",
    "b = 3.14\n",
    "c = \"Python\"\n",
    "d = [1, 2, 3]\n",
    "e = {\"name\": \"John\", \"age\": 30}\n",
    "\n",
    "# Verify data types\n",
    "print(type(a))  # Output: <class 'int'>\n",
    "print(type(b))  # Output: <class 'float'>\n",
    "print(type(c))  # Output: <class 'str'>\n",
    "print(type(d))  # Output: <class 'list'>\n",
    "print(type(e))  # Output: <class 'dict'>"
   ]
  },
  {
   "cell_type": "code",
   "execution_count": 16,
   "metadata": {},
   "outputs": [
    {
     "name": "stdout",
     "output_type": "stream",
     "text": [
      "3\n"
     ]
    }
   ],
   "source": [
    "# Typecasting float to int\n",
    "num_float = 3.99\n",
    "num_int = int(num_float)\n",
    "print(num_int)  # Output: 3 (decimal part is truncated)/"
   ]
  },
  {
   "cell_type": "code",
   "execution_count": 19,
   "metadata": {},
   "outputs": [
    {
     "name": "stdout",
     "output_type": "stream",
     "text": [
      "Enter something: #\n",
      "The input is a string.\n"
     ]
    }
   ],
   "source": [
    "# Check if input is a number or string\n",
    "user_input = input(\"Enter something: \")\n",
    "\n",
    "if user_input.isdigit():\n",
    "    print(\"The input is a number.\")\n",
    "else:\n",
    "    print(\"The input is a string.\")"
   ]
  },
  {
   "cell_type": "code",
   "execution_count": 1,
   "metadata": {},
   "outputs": [
    {
     "name": "stdout",
     "output_type": "stream",
     "text": [
      "5\n",
      "3\n",
      "3\n",
      "{4: 'Ibrahim', 'b': 2, 'c': 3}\n",
      "[1, 2, 3, 4, 5, 6]\n",
      "6\n",
      "6\n",
      "8\n",
      "None\n",
      "[1, 99, 2, 3, 4, 5]\n"
     ]
    }
   ],
   "source": [
    "# Create a list, tuple, and dictionary\n",
    "my_list = [1, 2, 3, 4, 5]\n",
    "my_tuple = (10, 20, 30)\n",
    "my_dict = {4 : \"Ibrahim\", \"b\": 2, \"c\": 3}\n",
    "my_set = ()\n",
    "\n",
    "# Calculate lengths\n",
    "print(len(my_list))  # Output: 5\n",
    "print(len(my_tuple))  # Output: 3\n",
    "print(len(my_dict))  # Output: 3\n",
    "print(my_dict)\n",
    "my_list.append(6)\n",
    "print(my_list)\n",
    "print(len(my_list))\n",
    "print(my_list.pop())\n",
    "my_list.append(8)\n",
    "print(my_list.pop())\n",
    "print(my_list.insert(1, 99))\n",
    "print(my_list)"
   ]
  },
  {
   "cell_type": "code",
   "execution_count": null,
   "metadata": {},
   "outputs": [],
   "source": []
  }
 ],
 "metadata": {
  "kernelspec": {
   "display_name": "Python 3",
   "language": "python",
   "name": "python3"
  },
  "language_info": {
   "codemirror_mode": {
    "name": "ipython",
    "version": 3
   },
   "file_extension": ".py",
   "mimetype": "text/x-python",
   "name": "python",
   "nbconvert_exporter": "python",
   "pygments_lexer": "ipython3",
   "version": "3.6.4"
  }
 },
 "nbformat": 4,
 "nbformat_minor": 5
}
